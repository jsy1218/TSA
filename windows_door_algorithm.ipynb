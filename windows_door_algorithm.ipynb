{
 "cells": [
  {
   "cell_type": "code",
   "execution_count": 233,
   "metadata": {},
   "outputs": [
    {
     "name": "stdout",
     "output_type": "stream",
     "text": [
      "Populating the interactive namespace from numpy and matplotlib\n"
     ]
    }
   ],
   "source": [
    "%pylab inline\n",
    "rcParams['figure.figsize'] = [16, 3]\n",
    "import pandas as pd"
   ]
  },
  {
   "cell_type": "code",
   "execution_count": 234,
   "metadata": {},
   "outputs": [],
   "source": [
    "import matplotlib.pyplot as plt\n",
    "from pandas.plotting import lag_plot"
   ]
  },
  {
   "cell_type": "code",
   "execution_count": 236,
   "metadata": {},
   "outputs": [
    {
     "data": {
      "text/html": [
       "<div>\n",
       "<style scoped>\n",
       "    .dataframe tbody tr th:only-of-type {\n",
       "        vertical-align: middle;\n",
       "    }\n",
       "\n",
       "    .dataframe tbody tr th {\n",
       "        vertical-align: top;\n",
       "    }\n",
       "\n",
       "    .dataframe thead th {\n",
       "        text-align: right;\n",
       "    }\n",
       "</style>\n",
       "<table border=\"1\" class=\"dataframe\">\n",
       "  <thead>\n",
       "    <tr style=\"text-align: right;\">\n",
       "      <th></th>\n",
       "      <th>Counter</th>\n",
       "    </tr>\n",
       "    <tr>\n",
       "      <th>Date</th>\n",
       "      <th></th>\n",
       "    </tr>\n",
       "  </thead>\n",
       "  <tbody>\n",
       "    <tr>\n",
       "      <th>2014-08-31 15:15:00</th>\n",
       "      <td>800</td>\n",
       "    </tr>\n",
       "    <tr>\n",
       "      <th>2014-08-31 15:30:00</th>\n",
       "      <td>685</td>\n",
       "    </tr>\n",
       "    <tr>\n",
       "      <th>2014-08-31 15:45:00</th>\n",
       "      <td>642</td>\n",
       "    </tr>\n",
       "    <tr>\n",
       "      <th>2014-08-31 16:00:00</th>\n",
       "      <td>637</td>\n",
       "    </tr>\n",
       "    <tr>\n",
       "      <th>2014-08-31 16:15:00</th>\n",
       "      <td>648</td>\n",
       "    </tr>\n",
       "    <tr>\n",
       "      <th>2014-08-31 16:30:00</th>\n",
       "      <td>802</td>\n",
       "    </tr>\n",
       "    <tr>\n",
       "      <th>2014-08-31 16:45:00</th>\n",
       "      <td>804</td>\n",
       "    </tr>\n",
       "    <tr>\n",
       "      <th>2014-08-31 17:00:00</th>\n",
       "      <td>814</td>\n",
       "    </tr>\n",
       "    <tr>\n",
       "      <th>2014-08-31 17:15:00</th>\n",
       "      <td>646</td>\n",
       "    </tr>\n",
       "    <tr>\n",
       "      <th>2014-08-31 17:30:00</th>\n",
       "      <td>628</td>\n",
       "    </tr>\n",
       "    <tr>\n",
       "      <th>2014-08-31 17:45:00</th>\n",
       "      <td>628</td>\n",
       "    </tr>\n",
       "    <tr>\n",
       "      <th>2014-08-31 18:00:00</th>\n",
       "      <td>641</td>\n",
       "    </tr>\n",
       "    <tr>\n",
       "      <th>2014-08-31 18:15:00</th>\n",
       "      <td>615</td>\n",
       "    </tr>\n",
       "    <tr>\n",
       "      <th>2014-08-31 18:30:00</th>\n",
       "      <td>607</td>\n",
       "    </tr>\n",
       "    <tr>\n",
       "      <th>2014-08-31 18:45:00</th>\n",
       "      <td>618</td>\n",
       "    </tr>\n",
       "    <tr>\n",
       "      <th>2014-08-31 19:00:00</th>\n",
       "      <td>625</td>\n",
       "    </tr>\n",
       "    <tr>\n",
       "      <th>2014-08-31 19:15:00</th>\n",
       "      <td>635</td>\n",
       "    </tr>\n",
       "    <tr>\n",
       "      <th>2014-08-31 19:30:00</th>\n",
       "      <td>753</td>\n",
       "    </tr>\n",
       "    <tr>\n",
       "      <th>2014-08-31 19:45:00</th>\n",
       "      <td>950</td>\n",
       "    </tr>\n",
       "    <tr>\n",
       "      <th>2014-08-31 20:00:00</th>\n",
       "      <td>876</td>\n",
       "    </tr>\n",
       "    <tr>\n",
       "      <th>2014-08-31 20:15:00</th>\n",
       "      <td>891</td>\n",
       "    </tr>\n",
       "    <tr>\n",
       "      <th>2014-08-31 20:30:00</th>\n",
       "      <td>986</td>\n",
       "    </tr>\n",
       "    <tr>\n",
       "      <th>2014-08-31 20:45:00</th>\n",
       "      <td>1100</td>\n",
       "    </tr>\n",
       "    <tr>\n",
       "      <th>2014-08-31 21:00:00</th>\n",
       "      <td>969</td>\n",
       "    </tr>\n",
       "    <tr>\n",
       "      <th>2014-08-31 21:15:00</th>\n",
       "      <td>1022</td>\n",
       "    </tr>\n",
       "    <tr>\n",
       "      <th>2014-08-31 21:30:00</th>\n",
       "      <td>987</td>\n",
       "    </tr>\n",
       "    <tr>\n",
       "      <th>2014-08-31 21:45:00</th>\n",
       "      <td>964</td>\n",
       "    </tr>\n",
       "    <tr>\n",
       "      <th>2014-08-31 22:00:00</th>\n",
       "      <td>996</td>\n",
       "    </tr>\n",
       "    <tr>\n",
       "      <th>2014-08-31 22:15:00</th>\n",
       "      <td>908</td>\n",
       "    </tr>\n",
       "    <tr>\n",
       "      <th>2014-08-31 22:30:00</th>\n",
       "      <td>797</td>\n",
       "    </tr>\n",
       "    <tr>\n",
       "      <th>...</th>\n",
       "      <td>...</td>\n",
       "    </tr>\n",
       "    <tr>\n",
       "      <th>2014-11-06 17:15:00</th>\n",
       "      <td>379</td>\n",
       "    </tr>\n",
       "    <tr>\n",
       "      <th>2014-11-06 17:30:00</th>\n",
       "      <td>503</td>\n",
       "    </tr>\n",
       "    <tr>\n",
       "      <th>2014-11-06 17:45:00</th>\n",
       "      <td>320</td>\n",
       "    </tr>\n",
       "    <tr>\n",
       "      <th>2014-11-06 18:00:00</th>\n",
       "      <td>880</td>\n",
       "    </tr>\n",
       "    <tr>\n",
       "      <th>2014-11-06 18:15:00</th>\n",
       "      <td>521</td>\n",
       "    </tr>\n",
       "    <tr>\n",
       "      <th>2014-11-06 18:30:00</th>\n",
       "      <td>357</td>\n",
       "    </tr>\n",
       "    <tr>\n",
       "      <th>2014-11-06 18:45:00</th>\n",
       "      <td>648</td>\n",
       "    </tr>\n",
       "    <tr>\n",
       "      <th>2014-11-06 19:00:00</th>\n",
       "      <td>491</td>\n",
       "    </tr>\n",
       "    <tr>\n",
       "      <th>2014-11-06 19:15:00</th>\n",
       "      <td>511</td>\n",
       "    </tr>\n",
       "    <tr>\n",
       "      <th>2014-11-06 19:30:00</th>\n",
       "      <td>382</td>\n",
       "    </tr>\n",
       "    <tr>\n",
       "      <th>2014-11-06 19:45:00</th>\n",
       "      <td>224</td>\n",
       "    </tr>\n",
       "    <tr>\n",
       "      <th>2014-11-06 20:00:00</th>\n",
       "      <td>267</td>\n",
       "    </tr>\n",
       "    <tr>\n",
       "      <th>2014-11-06 20:15:00</th>\n",
       "      <td>222</td>\n",
       "    </tr>\n",
       "    <tr>\n",
       "      <th>2014-11-06 20:30:00</th>\n",
       "      <td>430</td>\n",
       "    </tr>\n",
       "    <tr>\n",
       "      <th>2014-11-06 20:45:00</th>\n",
       "      <td>300</td>\n",
       "    </tr>\n",
       "    <tr>\n",
       "      <th>2014-11-06 21:00:00</th>\n",
       "      <td>386</td>\n",
       "    </tr>\n",
       "    <tr>\n",
       "      <th>2014-11-06 21:15:00</th>\n",
       "      <td>594</td>\n",
       "    </tr>\n",
       "    <tr>\n",
       "      <th>2014-11-06 21:30:00</th>\n",
       "      <td>720</td>\n",
       "    </tr>\n",
       "    <tr>\n",
       "      <th>2014-11-06 21:45:00</th>\n",
       "      <td>541</td>\n",
       "    </tr>\n",
       "    <tr>\n",
       "      <th>2014-11-06 22:00:00</th>\n",
       "      <td>431</td>\n",
       "    </tr>\n",
       "    <tr>\n",
       "      <th>2014-11-06 22:15:00</th>\n",
       "      <td>508</td>\n",
       "    </tr>\n",
       "    <tr>\n",
       "      <th>2014-11-06 22:30:00</th>\n",
       "      <td>360</td>\n",
       "    </tr>\n",
       "    <tr>\n",
       "      <th>2014-11-06 22:45:00</th>\n",
       "      <td>428</td>\n",
       "    </tr>\n",
       "    <tr>\n",
       "      <th>2014-11-06 23:00:00</th>\n",
       "      <td>450</td>\n",
       "    </tr>\n",
       "    <tr>\n",
       "      <th>2014-11-06 23:15:00</th>\n",
       "      <td>666</td>\n",
       "    </tr>\n",
       "    <tr>\n",
       "      <th>2014-11-06 23:30:00</th>\n",
       "      <td>1057</td>\n",
       "    </tr>\n",
       "    <tr>\n",
       "      <th>2014-11-06 23:45:00</th>\n",
       "      <td>768</td>\n",
       "    </tr>\n",
       "    <tr>\n",
       "      <th>2014-11-07 00:00:00</th>\n",
       "      <td>388</td>\n",
       "    </tr>\n",
       "    <tr>\n",
       "      <th>2014-11-07 00:15:00</th>\n",
       "      <td>414</td>\n",
       "    </tr>\n",
       "    <tr>\n",
       "      <th>2014-11-07 00:30:00</th>\n",
       "      <td>249</td>\n",
       "    </tr>\n",
       "  </tbody>\n",
       "</table>\n",
       "<p>6470 rows × 1 columns</p>\n",
       "</div>"
      ],
      "text/plain": [
       "                     Counter\n",
       "Date                        \n",
       "2014-08-31 15:15:00      800\n",
       "2014-08-31 15:30:00      685\n",
       "2014-08-31 15:45:00      642\n",
       "2014-08-31 16:00:00      637\n",
       "2014-08-31 16:15:00      648\n",
       "2014-08-31 16:30:00      802\n",
       "2014-08-31 16:45:00      804\n",
       "2014-08-31 17:00:00      814\n",
       "2014-08-31 17:15:00      646\n",
       "2014-08-31 17:30:00      628\n",
       "2014-08-31 17:45:00      628\n",
       "2014-08-31 18:00:00      641\n",
       "2014-08-31 18:15:00      615\n",
       "2014-08-31 18:30:00      607\n",
       "2014-08-31 18:45:00      618\n",
       "2014-08-31 19:00:00      625\n",
       "2014-08-31 19:15:00      635\n",
       "2014-08-31 19:30:00      753\n",
       "2014-08-31 19:45:00      950\n",
       "2014-08-31 20:00:00      876\n",
       "2014-08-31 20:15:00      891\n",
       "2014-08-31 20:30:00      986\n",
       "2014-08-31 20:45:00     1100\n",
       "2014-08-31 21:00:00      969\n",
       "2014-08-31 21:15:00     1022\n",
       "2014-08-31 21:30:00      987\n",
       "2014-08-31 21:45:00      964\n",
       "2014-08-31 22:00:00      996\n",
       "2014-08-31 22:15:00      908\n",
       "2014-08-31 22:30:00      797\n",
       "...                      ...\n",
       "2014-11-06 17:15:00      379\n",
       "2014-11-06 17:30:00      503\n",
       "2014-11-06 17:45:00      320\n",
       "2014-11-06 18:00:00      880\n",
       "2014-11-06 18:15:00      521\n",
       "2014-11-06 18:30:00      357\n",
       "2014-11-06 18:45:00      648\n",
       "2014-11-06 19:00:00      491\n",
       "2014-11-06 19:15:00      511\n",
       "2014-11-06 19:30:00      382\n",
       "2014-11-06 19:45:00      224\n",
       "2014-11-06 20:00:00      267\n",
       "2014-11-06 20:15:00      222\n",
       "2014-11-06 20:30:00      430\n",
       "2014-11-06 20:45:00      300\n",
       "2014-11-06 21:00:00      386\n",
       "2014-11-06 21:15:00      594\n",
       "2014-11-06 21:30:00      720\n",
       "2014-11-06 21:45:00      541\n",
       "2014-11-06 22:00:00      431\n",
       "2014-11-06 22:15:00      508\n",
       "2014-11-06 22:30:00      360\n",
       "2014-11-06 22:45:00      428\n",
       "2014-11-06 23:00:00      450\n",
       "2014-11-06 23:15:00      666\n",
       "2014-11-06 23:30:00     1057\n",
       "2014-11-06 23:45:00      768\n",
       "2014-11-07 00:00:00      388\n",
       "2014-11-07 00:15:00      414\n",
       "2014-11-07 00:30:00      249\n",
       "\n",
       "[6470 rows x 1 columns]"
      ]
     },
     "execution_count": 236,
     "metadata": {},
     "output_type": "execute_result"
    }
   ],
   "source": [
    "df = pd.read_csv('data/sample1.csv', parse_dates=True, index_col=0)\n",
    "df"
   ]
  },
  {
   "cell_type": "code",
   "execution_count": 237,
   "metadata": {},
   "outputs": [
    {
     "data": {
      "text/plain": [
       "<matplotlib.axes._subplots.AxesSubplot at 0x1892af6cf98>"
      ]
     },
     "execution_count": 237,
     "metadata": {},
     "output_type": "execute_result"
    },
    {
     "data": {
      "image/png": "[encoded data removed]",
      "text/plain": [
       "<Figure size 1152x216 with 1 Axes>"
      ]
     },
     "metadata": {
      "needs_background": "light"
     },
     "output_type": "display_data"
    }
   ],
   "source": [
    "df.plot()"
   ]
  },
  {
   "cell_type": "code",
   "execution_count": 238,
   "metadata": {},
   "outputs": [],
   "source": [
    "from datetime import timedelta\n",
    "from datetime import datetime"
   ]
  },
  {
   "cell_type": "code",
   "execution_count": 239,
   "metadata": {},
   "outputs": [],
   "source": [
    "exception_deviation = 1000\n",
    "exception_window_size = 100\n",
    "compression_deviation = exception_deviation / 2\n",
    "compression_window_size = 100"
   ]
  },
  {
   "cell_type": "code",
   "execution_count": 242,
   "metadata": {},
   "outputs": [
    {
     "data": {
      "text/plain": [
       "Timestamp('2014-09-01 09:00:00')"
      ]
     },
     "execution_count": 242,
     "metadata": {},
     "output_type": "execute_result"
    }
   ],
   "source": [
    "snapshot_time = df.index[0]\n",
    "snapshot_value = data[0]\n",
    "\n",
    "exception = []\n",
    "\n",
    "exception_window_counter = 0\n",
    "\n",
    "for index in range(len(data)):\n",
    "    if index == 0:\n",
    "        continue\n",
    "    if abs(snapshot_value - data[index]) > exception_deviation:\n",
    "        exception.append([df.index[index], data[index]])\n",
    "        exception_window_counter = 0\n",
    "    else:\n",
    "        exception_window_counter = (exception_window_counter + 1) % exception_window_size\n",
    "        \n",
    "        if exception_window_counter == 0:\n",
    "            exception.append([df.index[index], data[index]])\n",
    "    \n",
    "    if exception_window_counter == 0:\n",
    "        snapshot_time = df.index[index]\n",
    "        snapshot_value = data[index]\n",
    "exception\n",
    "\n",
    "df.index[72]"
   ]
  },
  {
   "cell_type": "code",
   "execution_count": 217,
   "metadata": {},
   "outputs": [
    {
     "name": "stdout",
     "output_type": "stream",
     "text": [
      "6359 number of data points discarded as part of exception window\n"
     ]
    }
   ],
   "source": [
    "print(\"{} {}\".format((len(data) - len(exception)), \"number of data points discarded as part of exception window\"))\n"
   ]
  },
  {
   "cell_type": "code",
   "execution_count": 218,
   "metadata": {},
   "outputs": [],
   "source": [
    "exception_df = pd.DataFrame(exception, columns=['Date', 'Counter'])\n",
    "exception_df.set_index('Date', inplace=True)"
   ]
  },
  {
   "cell_type": "code",
   "execution_count": 219,
   "metadata": {},
   "outputs": [
    {
     "data": {
      "text/plain": [
       "<matplotlib.axes._subplots.AxesSubplot at 0x1892aec7438>"
      ]
     },
     "execution_count": 219,
     "metadata": {},
     "output_type": "execute_result"
    },
    {
     "data": {
      "image/png": "[encoded data removed]",
      "text/plain": [
       "<Figure size 1152x216 with 1 Axes>"
      ]
     },
     "metadata": {
      "needs_background": "light"
     },
     "output_type": "display_data"
    }
   ],
   "source": [
    "exception_df.plot()"
   ]
  },
  {
   "cell_type": "code",
   "execution_count": 220,
   "metadata": {},
   "outputs": [
    {
     "data": {
      "text/plain": [
       "[[Timestamp('2014-09-02 09:15:00'), 1857],\n",
       " [Timestamp('2014-09-02 21:15:00'), 2305],\n",
       " [Timestamp('2014-09-04 19:00:00'), 2284],\n",
       " [Timestamp('2014-09-06 19:30:00'), 1545],\n",
       " [Timestamp('2014-09-08 15:15:00'), 1812],\n",
       " [Timestamp('2014-09-08 22:45:00'), 4451],\n",
       " [Timestamp('2014-09-08 23:15:00'), 8046],\n",
       " [Timestamp('2014-09-08 23:45:00'), 12238],\n",
       " [Timestamp('2014-09-09 18:15:00'), 9115],\n",
       " [Timestamp('2014-09-09 18:45:00'), 6732],\n",
       " [Timestamp('2014-09-09 19:15:00'), 2810],\n",
       " [Timestamp('2014-09-17 20:30:00'), 1838],\n",
       " [Timestamp('2014-09-19 15:15:00'), 1905],\n",
       " [Timestamp('2014-09-21 15:00:00'), 2455],\n",
       " [Timestamp('2014-09-26 00:30:00'), 1388],\n",
       " [Timestamp('2014-10-02 13:45:00'), 2478],\n",
       " [Timestamp('2014-10-11 00:00:00'), 2500],\n",
       " [Timestamp('2014-10-13 10:15:00'), 2198],\n",
       " [Timestamp('2014-10-14 21:45:00'), 2358],\n",
       " [Timestamp('2014-10-20 17:45:00'), 2537],\n",
       " [Timestamp('2014-10-20 18:30:00'), 4103],\n",
       " [Timestamp('2014-10-20 23:45:00'), 1068],\n",
       " [Timestamp('2014-10-21 14:00:00'), 1202],\n",
       " [Timestamp('2014-10-22 16:30:00'), 3966],\n",
       " [Timestamp('2014-10-22 17:30:00'), 1416],\n",
       " [Timestamp('2014-10-23 09:45:00'), 3855],\n",
       " [Timestamp('2014-10-23 13:30:00'), 4145],\n",
       " [Timestamp('2014-10-23 14:45:00'), 1737],\n",
       " [Timestamp('2014-10-24 17:00:00'), 2588],\n",
       " [Timestamp('2014-10-24 19:00:00'), 2954],\n",
       " [Timestamp('2014-10-31 03:15:00'), 1046],\n",
       " [Timestamp('2014-11-02 00:00:00'), 0],\n",
       " [Timestamp('2014-11-03 07:15:00'), 1907],\n",
       " [Timestamp('2014-11-04 18:30:00'), 3099],\n",
       " [Timestamp('2014-11-05 01:45:00'), 581]]"
      ]
     },
     "execution_count": 220,
     "metadata": {},
     "output_type": "execute_result"
    }
   ],
   "source": [
    "snapshot_time = exception_df.index[0]\n",
    "snapshot_value = exception_df['Counter'][0]\n",
    "\n",
    "slope_max = +inf\n",
    "slope_min = -inf\n",
    "\n",
    "compression = []\n",
    "\n",
    "compression_window_counter = 0\n",
    "\n",
    "for index in range(len(exception_df['Counter'])):\n",
    "    if index == 0:\n",
    "        continue\n",
    "    \n",
    "    curr_slope_max = (exception_df['Counter'][index] + compression_deviation - snapshot_value) / (exception_df.index[index] - snapshot_time).total_seconds()\n",
    "    curr_slope_min = (exception_df['Counter'][index] - compression_deviation - snapshot_value) / (exception_df.index[index] - snapshot_time).total_seconds()\n",
    "\n",
    "    if curr_slope_max < slope_min or curr_slope_min > slope_max:\n",
    "        compression.append([exception_df.index[index], exception_df['Counter'][index]])\n",
    "        compression_window_counter = 0\n",
    "    else:\n",
    "        slope_max = min(slope_max, curr_slope_max)\n",
    "        slope_min = max(slope_min, curr_slope_min)\n",
    "        \n",
    "        compression_window_counter = (compression_window_counter + 1) % compression_window_size\n",
    "\n",
    "        if compression_window_counter == 0:\n",
    "            compression.append([exception_df.index[index], exception_df['Counter'][index]])\n",
    "            \n",
    "    if compression_window_counter == 0:\n",
    "        snapshot_time = exception_df.index[0]\n",
    "        snapshot_value = exception_df['Counter'][0]\n",
    "\n",
    "        slope_max = +inf\n",
    "        slope_min = -inf\n",
    "                \n",
    "compression"
   ]
  },
  {
   "cell_type": "code",
   "execution_count": 221,
   "metadata": {},
   "outputs": [
    {
     "name": "stdout",
     "output_type": "stream",
     "text": [
      "76 number of data points discarded as part of exception window\n"
     ]
    }
   ],
   "source": [
    "print(\"{} {}\".format((len(exception) - len(compression)), \"number of data points discarded as part of exception window\"))\n"
   ]
  },
  {
   "cell_type": "code",
   "execution_count": 222,
   "metadata": {},
   "outputs": [],
   "source": [
    "compression_df = pd.DataFrame(compression, columns=['Date', 'Counter'])\n",
    "compression_df.set_index('Date', inplace=True)"
   ]
  },
  {
   "cell_type": "code",
   "execution_count": 224,
   "metadata": {},
   "outputs": [
    {
     "data": {
      "text/plain": [
       "<matplotlib.axes._subplots.AxesSubplot at 0x1892af857f0>"
      ]
     },
     "execution_count": 224,
     "metadata": {},
     "output_type": "execute_result"
    },
    {
     "data": {
      "image/png": "[encoded data removed]",
      "text/plain": [
       "<Figure size 1152x216 with 1 Axes>"
      ]
     },
     "metadata": {
      "needs_background": "light"
     },
     "output_type": "display_data"
    }
   ],
   "source": [
    "compression_df.plot()"
   ]
  },
  {
   "cell_type": "code",
   "execution_count": null,
   "metadata": {},
   "outputs": [],
   "source": []
  }
 ],
 "metadata": {
  "kernelspec": {
   "display_name": "Python 3",
   "language": "python",
   "name": "python3"
  },
  "language_info": {
   "codemirror_mode": {
    "name": "ipython",
    "version": 3
   },
   "file_extension": ".py",
   "mimetype": "text/x-python",
   "name": "python",
   "nbconvert_exporter": "python",
   "pygments_lexer": "ipython3",
   "version": "3.7.1"
  }
 },
 "nbformat": 4,
 "nbformat_minor": 2
}
